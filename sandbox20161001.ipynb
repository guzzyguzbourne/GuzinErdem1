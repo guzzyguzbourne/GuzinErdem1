{
 "cells": [
  {
   "cell_type": "code",
   "execution_count": 14,
   "metadata": {
    "scrolled": true
   },
   "outputs": [
    {
     "name": "stdout",
     "output_type": "stream",
     "text": [
      "x_0= 1\n",
      "x_1= 1\n",
      "x_2= 2\n",
      "x_3= 3\n",
      "x_4= 5\n",
      "x_5= 8\n",
      "x_6= 13\n",
      "x_7= 21\n",
      "x_8= 34\n",
      "x_9= 55\n"
     ]
    }
   ],
   "source": [
    "a1=0\n",
    "a2=1\n",
    "N=10\n",
    "for i in range (N):\n",
    "    x_i=a2+a1\n",
    "    a2=a1\n",
    "    a1=x_i\n",
    "    print 'x'+'_'+str(i)+ '=' ,x_i\n",
    "\n",
    "   \n",
    "    \n",
    "\n"
   ]
  },
  {
   "cell_type": "code",
   "execution_count": 20,
   "metadata": {},
   "outputs": [
    {
     "name": "stdout",
     "output_type": "stream",
     "text": [
      "('x_9=', 55)\n",
      "x_0= 1\n",
      "x_1= 1\n",
      "x_2= 2\n",
      "x_3= 3\n",
      "x_4= 5\n",
      "x_5= 8\n",
      "x_6= 13\n",
      "x_7= 21\n",
      "x_8= 34\n",
      "x_9= 55\n"
     ]
    }
   ],
   "source": [
    "N=10\n",
    "a1=0\n",
    "a2=1\n",
    "x=1\n",
    "if N>0:\n",
    "    print( 'x'+'_'+str(i)+ '=' ,x_i)\n",
    "\n",
    "    \n",
    "for i in range (N):\n",
    "    x_i=a2+a1\n",
    "    a2=a1\n",
    "    a1=x_i\n",
    "    print 'x'+'_'+str(i)+ '=' ,x_i"
   ]
  },
  {
   "cell_type": "code",
   "execution_count": 33,
   "metadata": {},
   "outputs": [
    {
     "name": "stdout",
     "output_type": "stream",
     "text": [
      "(-1.0, 4.0)\n",
      "(-0.9, 3.63)\n",
      "(-0.8, 3.32)\n",
      "(-0.7, 3.07)\n",
      "(-0.6, 2.88)\n",
      "(-0.5, 2.75)\n",
      "(-0.4, 2.68)\n",
      "(-0.3, 2.67)\n",
      "(-0.2, 2.72)\n",
      "(-0.1, 2.83)\n",
      "(-0.0, 3.0)\n",
      "(0.1, 3.23)\n",
      "(0.2, 3.52)\n",
      "(0.3, 3.87)\n",
      "(0.4, 4.28)\n",
      "(0.5, 4.75)\n",
      "(0.6, 5.28)\n",
      "(0.7, 5.87)\n",
      "(0.8, 6.52)\n",
      "(0.9, 7.23)\n",
      "(1.0, 8.0)\n"
     ]
    }
   ],
   "source": [
    "def my_range(start, end, step):\n",
    "    while start <= end:\n",
    "        yield start\n",
    "        start += step\n",
    "\n",
    "for x in my_range(-1,1,0.1):\n",
    "    print(round(x,2), round(3*x*x+2*x+3,2))"
   ]
  },
  {
   "cell_type": "code",
   "execution_count": 37,
   "metadata": {},
   "outputs": [
    {
     "name": "stdout",
     "output_type": "stream",
     "text": [
      "-1.0 4.0\n",
      "-0.9 3.63\n",
      "-0.8 3.32\n",
      "-0.7 3.07\n",
      "-0.6 2.88\n",
      "-0.5 2.75\n",
      "-0.4 2.68\n",
      "-0.3 2.67\n",
      "-0.2 2.72\n",
      "-0.1 2.83\n",
      "0.0 3.0\n",
      "0.1 3.23\n",
      "0.2 3.52\n",
      "0.3 3.87\n",
      "0.4 4.28\n",
      "0.5 4.75\n",
      "0.6 5.28\n",
      "0.7 5.87\n",
      "0.8 6.52\n",
      "0.9 7.23\n",
      "1.0 8.0\n"
     ]
    }
   ],
   "source": [
    "l=-1\n",
    "r=1\n",
    "delta=0.1\n",
    "steps=(r-l)/delta+1\n",
    "for i in range(0,int(steps)):\n",
    "    x=l+i*delta\n",
    "    print x,\n",
    "    print 3*x**2+2*x+3\n",
    "    "
   ]
  },
  {
   "cell_type": "code",
   "execution_count": null,
   "metadata": {
    "collapsed": true
   },
   "outputs": [],
   "source": [
    "l=-1\n",
    "r=1\n",
    "delta=0.1\n",
    "steps=(r-l)/delta+1\n",
    "\n",
    "for i in range(0,int(steps)):\n",
    "    x=l+i*delta\n",
    "    print x,\n",
    "    print 3*x**2+2*x+3\n",
    "    "
   ]
  },
  {
   "cell_type": "code",
   "execution_count": 38,
   "metadata": {},
   "outputs": [
    {
     "name": "stdout",
     "output_type": "stream",
     "text": [
      "-1.0 4.0\n",
      "-0.9 3.63\n",
      "-0.8 3.32\n",
      "-0.7 3.07\n",
      "-0.6 2.88\n",
      "-0.5 2.75\n",
      "-0.4 2.68\n",
      "-0.3 2.67\n",
      "-0.2 2.72\n",
      "-0.1 2.83\n",
      "0.0 3.0\n",
      "0.1 3.23\n",
      "0.2 3.52\n",
      "0.3 3.87\n",
      "0.4 4.28\n",
      "0.5 4.75\n",
      "0.6 5.28\n",
      "0.7 5.87\n",
      "0.8 6.52\n",
      "0.9 7.23\n"
     ]
    }
   ],
   "source": [
    "def f(x):\n",
    "    return 3*x**2 + 2*x +3\n",
    "l=-1\n",
    "r=1\n",
    "delta=0.1\n",
    "steps=(r-l)/delta\n",
    "\n",
    "\n",
    "for i in range(0,int(steps)):\n",
    "    x=l+i*delta\n",
    "    print x,\n",
    "    print f(x)\n",
    "    "
   ]
  },
  {
   "cell_type": "code",
   "execution_count": 45,
   "metadata": {},
   "outputs": [
    {
     "name": "stdout",
     "output_type": "stream",
     "text": [
      "1 112.0\n",
      "2 125.44\n",
      "3 140.4928\n",
      "4 157.351936\n",
      "5 176.23416832\n",
      "6 197.382268518\n",
      "7 221.068140741\n",
      "8 247.596317629\n",
      "9 277.307875745\n"
     ]
    }
   ],
   "source": [
    "def f(r,t,S):\n",
    "    return S*(1+r)**t\n",
    "interestrate=0.12\n",
    "t=10\n",
    "S=100\n",
    "l=1\n",
    "r=t\n",
    "delta=1\n",
    "steps=(r-l)/delta\n",
    "\n",
    "\n",
    "for i in range(0,int(steps)):\n",
    "    t=l+i*delta\n",
    "    print t,\n",
    "    print f(interestrate,t,S)"
   ]
  },
  {
   "cell_type": "markdown",
   "metadata": {},
   "source": [
    "Arrays, Lists:\n"
   ]
  },
  {
   "cell_type": "code",
   "execution_count": 46,
   "metadata": {},
   "outputs": [
    {
     "name": "stdout",
     "output_type": "stream",
     "text": [
      "Ali\n",
      "Veli\n",
      "Fatma\n",
      "Asli\n"
     ]
    }
   ],
   "source": [
    "a=[1,2,5,7,5]\n",
    "names=['Ali','Veli','Fatma','Asli']\n",
    "\n",
    "for a in names:\n",
    "    print(a)\n",
    "    "
   ]
  },
  {
   "cell_type": "code",
   "execution_count": 48,
   "metadata": {},
   "outputs": [
    {
     "name": "stdout",
     "output_type": "stream",
     "text": [
      "Asli\n",
      "4\n"
     ]
    }
   ],
   "source": [
    "a=[1,2,5,7,5]\n",
    "names=['Ali','Veli','Fatma','Asli']\n",
    "\n",
    "#for a in names:\n",
    "    #print(a)\n",
    "\n",
    "print(names[3])\n",
    "print(len(names))"
   ]
  },
  {
   "cell_type": "code",
   "execution_count": 50,
   "metadata": {},
   "outputs": [
    {
     "name": "stdout",
     "output_type": "stream",
     "text": [
      "Asli\n",
      "Fatma\n",
      "Veli\n",
      "Ali\n"
     ]
    }
   ],
   "source": [
    "a=[1,2,5,7,5]\n",
    "names=['Ali','Veli','Fatma','Asli']\n",
    "\n",
    "#for a in names:\n",
    "    #print(a)\n",
    "for i in range (len(names)-1,-1,-1):\n",
    "    print(names[i])\n",
    "\n"
   ]
  },
  {
   "cell_type": "code",
   "execution_count": 51,
   "metadata": {},
   "outputs": [
    {
     "name": "stdout",
     "output_type": "stream",
     "text": [
      "Asli\n",
      "Fatma\n",
      "Veli\n",
      "Ali\n"
     ]
    }
   ],
   "source": [
    "for n in reversed(names):\n",
    "    print(n)"
   ]
  },
  {
   "cell_type": "code",
   "execution_count": 53,
   "metadata": {},
   "outputs": [
    {
     "name": "stdout",
     "output_type": "stream",
     "text": [
      "4.9625\n"
     ]
    }
   ],
   "source": [
    "a=[1,2,5,7,5,10,3.2,6.5]\n",
    "\n",
    "print(sum(a)/len(a))"
   ]
  },
  {
   "cell_type": "code",
   "execution_count": 59,
   "metadata": {},
   "outputs": [
    {
     "name": "stdout",
     "output_type": "stream",
     "text": [
      "mean         = 4.9625\n",
      "variance    = 7.43484375\n"
     ]
    }
   ],
   "source": [
    "a=[1,2,5,7,5,10,3.2,6.5]\n",
    "#mean=sum(a)/len(a)\n",
    "s1=0.0\n",
    "s2=0.0\n",
    "#sum(a):\n",
    "for i in a:\n",
    "    s1 +=i\n",
    "\n",
    "    mean=s1/len(a)\n",
    "\n",
    "for i in a:\n",
    "    s2+=(i-mean)**2\n",
    "\n",
    "    variance=s2/len(a)\n",
    "\n",
    "print('mean         ='), \n",
    "print(mean)\n",
    "print('variance    ='),\n",
    "print(variance)\n"
   ]
  },
  {
   "cell_type": "markdown",
   "metadata": {},
   "source": [
    "finding the min in an array:"
   ]
  },
  {
   "cell_type": "code",
   "execution_count": 60,
   "metadata": {},
   "outputs": [
    {
     "name": "stdout",
     "output_type": "stream",
     "text": [
      "1\n"
     ]
    }
   ],
   "source": [
    "a=[1,2,5,7,5,10,3.2,6.5]\n",
    "print(min(a))"
   ]
  },
  {
   "cell_type": "code",
   "execution_count": 73,
   "metadata": {},
   "outputs": [
    {
     "name": "stdout",
     "output_type": "stream",
     "text": [
      "1\n"
     ]
    }
   ],
   "source": [
    "x=[1,2,5,7,5,10,3.2,6.5]\n",
    "mn=x[0]\n",
    "\n",
    "for i in range(1,len(x)):\n",
    "    if x[i]<mn:\n",
    "        mn=x[i]\n",
    "        \n",
    "print(mn)"
   ]
  },
  {
   "cell_type": "code",
   "execution_count": 74,
   "metadata": {},
   "outputs": [],
   "source": [
    "x.sort()"
   ]
  },
  {
   "cell_type": "code",
   "execution_count": 75,
   "metadata": {},
   "outputs": [
    {
     "data": {
      "text/plain": [
       "[1, 2, 3.2, 5, 5, 6.5, 7, 10]"
      ]
     },
     "execution_count": 75,
     "metadata": {},
     "output_type": "execute_result"
    }
   ],
   "source": [
    "x"
   ]
  },
  {
   "cell_type": "code",
   "execution_count": null,
   "metadata": {
    "collapsed": true
   },
   "outputs": [],
   "source": []
  }
 ],
 "metadata": {
  "kernelspec": {
   "display_name": "Python 3",
   "language": "python",
   "name": "python3"
  },
  "language_info": {
   "codemirror_mode": {
    "name": "ipython",
    "version": 3
   },
   "file_extension": ".py",
   "mimetype": "text/x-python",
   "name": "python",
   "nbconvert_exporter": "python",
   "pygments_lexer": "ipython3",
   "version": "3.6.2"
  }
 },
 "nbformat": 4,
 "nbformat_minor": 1
}
