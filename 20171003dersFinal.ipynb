{
 "cells": [
  {
   "cell_type": "code",
   "execution_count": 3,
   "metadata": {},
   "outputs": [
    {
     "name": "stdout",
     "output_type": "stream",
     "text": [
      "Guzin tahta agac "
     ]
    }
   ],
   "source": [
    "name= ('Guzin', 'tahta', 'agac')\n",
    "\n",
    "for i in range (0,len(name)):\n",
    "    print(name[i], end=' ')"
   ]
  },
  {
   "cell_type": "code",
   "execution_count": 2,
   "metadata": {},
   "outputs": [
    {
     "name": "stdout",
     "output_type": "stream",
     "text": [
      "-4\n",
      "-3.69\n",
      "-3.36\n",
      "-3.01\n",
      "-2.6399999999999997\n",
      "-2.25\n",
      "-1.8400000000000003\n",
      "-1.4100000000000006\n",
      "-0.96\n",
      "-0.4900000000000002\n"
     ]
    }
   ],
   "source": [
    "x=0\n",
    "\n",
    "for i in range (0,10):\n",
    "    print(x**2+3*x-4)\n",
    "    x=x+0.1\n",
    "    \n",
    "\n"
   ]
  },
  {
   "cell_type": "code",
   "execution_count": 13,
   "metadata": {},
   "outputs": [
    {
     "name": "stdout",
     "output_type": "stream",
     "text": [
      "0.10 -3.690\n",
      "0.20 -3.360\n",
      "0.30 -3.010\n",
      "0.40 -2.640\n",
      "0.50 -2.250\n",
      "0.60 -1.840\n",
      "0.70 -1.410\n",
      "0.80 -0.960\n",
      "0.90 -0.490\n",
      "1.00 -0.000\n"
     ]
    }
   ],
   "source": [
    "x=0\n",
    "\n",
    "for i in range(10):\n",
    "    x +=0.1\n",
    "    f=x**2 + 3*x -4\n",
    "    print(\"%3.2f\" % x, \"%1.3f\" % f)\n",
    "    #x ve y için fraction'dan sonra 2 ve 3 digit\n",
    "    # % format string"
   ]
  },
  {
   "cell_type": "code",
   "execution_count": null,
   "metadata": {
    "collapsed": true
   },
   "outputs": [],
   "source": [
    "#f(x) in 0 olduğu kökü bulma(belli bir range içinde - -l,+r gibi-) by section yöntemi ile:"
   ]
  },
  {
   "cell_type": "code",
   "execution_count": null,
   "metadata": {
    "collapsed": true
   },
   "outputs": [],
   "source": [
    "#x^2=2, f(x)=x^2-2=0 ; l=0,r=2:"
   ]
  },
  {
   "cell_type": "code",
   "execution_count": 19,
   "metadata": {},
   "outputs": [
    {
     "name": "stdout",
     "output_type": "stream",
     "text": [
      "1.414213562373095\n"
     ]
    }
   ],
   "source": [
    "l=0\n",
    "r=2\n",
    "\n",
    "for i in range (0,100):\n",
    "    x=(r+l)/2\n",
    "    y = x**2 - 2\n",
    "    if y<0:\n",
    "        l=(r+l)/2\n",
    "    if y>0:\n",
    "        r=(r+l)/2\n",
    "print(x)"
   ]
  },
  {
   "cell_type": "code",
   "execution_count": null,
   "metadata": {
    "collapsed": true
   },
   "outputs": [],
   "source": [
    "midpoint=(right+left)/2\n",
    "#for i in range (100)\n",
    "#mid=(right+left)/2\n",
    "#if sign of f(mid)=sign of f(left)\n",
    "#left=mid\n",
    "#else\n",
    "#right=mid\n",
    "\n"
   ]
  },
  {
   "cell_type": "code",
   "execution_count": 22,
   "metadata": {},
   "outputs": [
    {
     "name": "stdout",
     "output_type": "stream",
     "text": [
      "1.4142135623769718\n"
     ]
    }
   ],
   "source": [
    "l=0\n",
    "r=2\n",
    "\n",
    "for i in range (100):\n",
    "    mid=(l+r)/2\n",
    "    fmid=mid**2-2\n",
    "    if fmid<=0:\n",
    "        signfmid=-1\n",
    "    else:\n",
    "        signfmid=1\n",
    "    fleft=l**2 - 2\n",
    "    if fleft<=0:\n",
    "        signfleft=-1\n",
    "    else:\n",
    "        signfleft=1\n",
    "    if signfmid==signfleft:\n",
    "        l=mid\n",
    "    else:\n",
    "        r=mid\n",
    "    if (r-l)< 0.00000000001:\n",
    "        break\n",
    "print(mid)\n",
    "        \n",
    "    "
   ]
  }
 ],
 "metadata": {
  "kernelspec": {
   "display_name": "Python 3",
   "language": "python",
   "name": "python3"
  },
  "language_info": {
   "codemirror_mode": {
    "name": "ipython",
    "version": 3
   },
   "file_extension": ".py",
   "mimetype": "text/x-python",
   "name": "python",
   "nbconvert_exporter": "python",
   "pygments_lexer": "ipython3",
   "version": "3.6.2"
  }
 },
 "nbformat": 4,
 "nbformat_minor": 2
}
