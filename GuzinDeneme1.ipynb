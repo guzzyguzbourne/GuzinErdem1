{
 "cells": [
  {
   "cell_type": "code",
   "execution_count": 3,
   "metadata": {
    "scrolled": false
   },
   "outputs": [
    {
     "name": "stdout",
     "output_type": "stream",
     "text": [
      "Guzin\n"
     ]
    }
   ],
   "source": [
    "x='Guzin'\n",
    "print(x)"
   ]
  },
  {
   "cell_type": "code",
   "execution_count": 6,
   "metadata": {
    "scrolled": true
   },
   "outputs": [
    {
     "name": "stdout",
     "output_type": "stream",
     "text": [
      "0\n",
      "1\n",
      "4\n",
      "9\n",
      "16\n",
      "25\n",
      "36\n",
      "49\n",
      "64\n",
      "81\n",
      "100\n"
     ]
    }
   ],
   "source": [
    "\n",
    "for i in range(11):\n",
    "    b=i**2\n",
    "    print(b)"
   ]
  },
  {
   "cell_type": "code",
   "execution_count": null,
   "metadata": {
    "collapsed": true
   },
   "outputs": [],
   "source": [
    "#a cellin üstüne yeni cell açıyor;\n",
    "#b de cellin altına yeni cell açıyor (code olarak);\n",
    "#markdown a dönmek için m ye tıklıyoruz\n",
    "#code için y ye tıkla\n"
   ]
  },
  {
   "cell_type": "code",
   "execution_count": 8,
   "metadata": {},
   "outputs": [
    {
     "name": "stdout",
     "output_type": "stream",
     "text": [
      "1\n",
      "x\n"
     ]
    }
   ],
   "source": [
    "print(1)\n",
    "print('x')"
   ]
  },
  {
   "cell_type": "code",
   "execution_count": 12,
   "metadata": {},
   "outputs": [],
   "source": [
    "#random walk:"
   ]
  },
  {
   "cell_type": "code",
   "execution_count": 15,
   "metadata": {},
   "outputs": [
    {
     "data": {
      "text/plain": [
       "0"
      ]
     },
     "execution_count": 15,
     "metadata": {},
     "output_type": "execute_result"
    }
   ],
   "source": [
    "import numpy as np\n",
    "\n",
    "np.random.randint(low=0, high=2)"
   ]
  },
  {
   "cell_type": "code",
   "execution_count": null,
   "metadata": {
    "collapsed": true
   },
   "outputs": [],
   "source": [
    "#tab ile seçeneklere geçebiliyosun o kütüphanedeki fonksiyonların seçenekleri"
   ]
  },
  {
   "cell_type": "code",
   "execution_count": 31,
   "metadata": {
    "scrolled": true
   },
   "outputs": [
    {
     "name": "stdout",
     "output_type": "stream",
     "text": [
      "18\n"
     ]
    }
   ],
   "source": [
    "import numpy as np\n",
    "x=10\n",
    "for i in range (101):\n",
    "    w=2*np.random.randint(high=2, low=0)-1\n",
    "    x += w\n",
    "    if x==0:\n",
    "        print(i+1)\n",
    "        break"
   ]
  },
  {
   "cell_type": "code",
   "execution_count": 38,
   "metadata": {
    "scrolled": true
   },
   "outputs": [
    {
     "name": "stdout",
     "output_type": "stream",
     "text": [
      "86\n"
     ]
    },
    {
     "data": {
      "image/png": "[encoded data removed]",
      "text/plain": [
       "<matplotlib.figure.Figure at 0x81079e8>"
      ]
     },
     "metadata": {},
     "output_type": "display_data"
    }
   ],
   "source": [
    "%matplotlib inline\n",
    "\n",
    "\n",
    "import numpy as np\n",
    "import matplotlib.pylab as plt\n",
    "\n",
    "X = np.zeros(1000)\n",
    "\n",
    "x = 10\n",
    "for i in range (10001):\n",
    "    w = 2*np.random.randint(high=2, low=0)-1\n",
    "    x += w\n",
    "    X[i] = x\n",
    "    \n",
    "    if x==0:\n",
    "        print(i+1)\n",
    "        break\n",
    "        \n",
    "plt.plot(X)\n",
    "plt.show()"
   ]
  },
  {
   "cell_type": "code",
   "execution_count": 43,
   "metadata": {},
   "outputs": [
    {
     "data": {
      "image/png": "[encoded data removed]",
      "text/plain": [
       "<matplotlib.figure.Figure at 0x7e325c0>"
      ]
     },
     "metadata": {},
     "output_type": "display_data"
    }
   ],
   "source": [
    "X = np.zeros(1000)\n",
    "\n",
    "x = 100\n",
    "for i in range (1000):\n",
    "    w = 2*np.random.randint(high=2, low=0)-1\n",
    "    x += w\n",
    "    X[i] = x\n",
    "    \n",
    "    if x==0:\n",
    "        print(i+1)\n",
    "        break\n",
    "        \n",
    "plt.plot(X)\n",
    "plt.show()"
   ]
  },
  {
   "cell_type": "code",
   "execution_count": 18,
   "metadata": {},
   "outputs": [
    {
     "name": "stdout",
     "output_type": "stream",
     "text": [
      "0\n"
     ]
    }
   ],
   "source": [
    "%matplotlib inline\n",
    "\n",
    "import numpy as np\n",
    "import matplotlib.pylab as plt\n",
    "\n",
    "EPOCHS =10000\n",
    "MAXTURN = 1000\n",
    "INITIALCAPITAL = 10\n",
    "default = 0\n",
    "\n",
    "for epochs in range (EPOCHS):  \n",
    "    CAPITAL = INITIALCAPITAL\n",
    "    for TURN in range (MAXTURN):\n",
    "        GAIN = 2*np.random.randint(high=2, low=0) - 1\n",
    "        CAPITAL += GAIN\n",
    "           \n",
    "        if CAPITAL == 0:\n",
    "            default += 1\n",
    "            break\n",
    "print(default/EPOCHS)        \n"
   ]
  },
  {
   "cell_type": "code",
   "execution_count": 22,
   "metadata": {},
   "outputs": [
    {
     "name": "stdout",
     "output_type": "stream",
     "text": [
      "0.3264\n"
     ]
    }
   ],
   "source": [
    "%matplotlib inline\n",
    "import numpy as np\n",
    "\n",
    "EPOCHS = 10000\n",
    "\n",
    "MAX_TURN = 100\n",
    "INITIAL_CAPITAL = 10\n",
    "lost = 0.\n",
    "\n",
    "for epoch in range (EPOCHS):\n",
    "    capital = INITIAL_CAPITAL\n",
    "    for turn in range(MAX_TURN):\n",
    "        gain = 2*np.random.randint(high=2, low=0)-1\n",
    "        capital += gain\n",
    "\n",
    "        if capital==0:\n",
    "            lost+=1\n",
    "            break\n",
    "        \n",
    "print(lost/EPOCHS)"
   ]
  }
 ],
 "metadata": {
  "anaconda-cloud": {},
  "kernelspec": {
   "display_name": "Python 3",
   "language": "python",
   "name": "python3"
  },
  "language_info": {
   "codemirror_mode": {
    "name": "ipython",
    "version": 3
   },
   "file_extension": ".py",
   "mimetype": "text/x-python",
   "name": "python",
   "nbconvert_exporter": "python",
   "pygments_lexer": "ipython3",
   "version": "3.6.2"
  }
 },
 "nbformat": 4,
 "nbformat_minor": 1
}
