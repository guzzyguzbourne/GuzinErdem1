{
 "cells": [
  {
   "cell_type": "markdown",
   "metadata": {},
   "source": [
    "hw: value counts given an array of integers."
   ]
  },
  {
   "cell_type": "code",
   "execution_count": 4,
   "metadata": {},
   "outputs": [
    {
     "name": "stdout",
     "output_type": "stream",
     "text": [
      "(5, 1)\n",
      "(3, 2)\n",
      "(1, 2)\n",
      "(6, 1)\n",
      "(2, 1)\n"
     ]
    }
   ],
   "source": [
    "a=[5,3,1,1,6,3,2]\n",
    "\n",
    "ua=[5,3,1,6,2] #unique numbers in the array a.\n",
    "\n",
    "#ua=a\n",
    "\n",
    "for i in ua:\n",
    "    s=0 #s is a counter\n",
    "    for j in a:\n",
    "        if i==j:\n",
    "            s=s+1\n",
    "    print(i , s)"
   ]
  },
  {
   "cell_type": "markdown",
   "metadata": {},
   "source": [
    "how to find the unique values in an array:"
   ]
  },
  {
   "cell_type": "code",
   "execution_count": 4,
   "metadata": {},
   "outputs": [
    {
     "name": "stdout",
     "output_type": "stream",
     "text": [
      "[5, 3, 1, 6, 2]\n"
     ]
    }
   ],
   "source": [
    "a=[5,3,1,1,6,3,2]\n",
    "#ua=[] empty initially, and 5 will be automatically the first unique number in the array\n",
    "ua=[]\n",
    "for j in a:\n",
    "    found = False\n",
    "    for i in ua:\n",
    "        if i == j:\n",
    "            found = True;\n",
    "            break;\n",
    "    if not found:\n",
    "        ua.append(j)\n",
    "print(ua)\n"
   ]
  },
  {
   "cell_type": "code",
   "execution_count": 9,
   "metadata": {},
   "outputs": [
    {
     "name": "stdout",
     "output_type": "stream",
     "text": [
      "[5, 3, 1, 6, 2]\n",
      "(5, 1)\n",
      "(3, 2)\n",
      "(1, 2)\n",
      "(6, 1)\n",
      "(2, 1)\n"
     ]
    }
   ],
   "source": [
    "a=[5,3,1,1,6,3,2]\n",
    "#ua=[] empty initially, and 5 will be automatically the first unique number in the array\n",
    "ua=[]\n",
    "for j in a:\n",
    "    found = False\n",
    "    for i in ua:\n",
    "        if i == j:\n",
    "            found = True;\n",
    "            break;\n",
    "    if not found:\n",
    "        ua.append(j)\n",
    "print(ua)\n",
    "\n",
    "for x in ua:\n",
    "    s=0 #s is a counter\n",
    "    for y in a:\n",
    "        if x==y:\n",
    "            s=s+1\n",
    "   \n",
    "    print(x,s)\n",
    "   "
   ]
  },
  {
   "cell_type": "code",
   "execution_count": 16,
   "metadata": {},
   "outputs": [
    {
     "name": "stdout",
     "output_type": "stream",
     "text": [
      "[0, 5, 8, 9, 10, 16, 19, 21]\n"
     ]
    }
   ],
   "source": [
    "a=[5,3,1,1,6,3,2]\n",
    "x=0\n",
    "ca=[0]\n",
    "#ca=[0,5,8,9,10,16,19,21]\n",
    "for i in a:\n",
    "    x=x+i\n",
    "    ca.append(x)\n",
    "    \n",
    "#cumulative sumation array\n",
    "\n",
    "print ca\n",
    "\n",
    "\n",
    "\n"
   ]
  },
  {
   "cell_type": "code",
   "execution_count": 18,
   "metadata": {},
   "outputs": [
    {
     "name": "stdout",
     "output_type": "stream",
     "text": [
      "[0, 5, 8, 9, 10, 16, 19, 21]\n"
     ]
    }
   ],
   "source": [
    "#OR:\n",
    "\n",
    "a=[5,3,1,1,6,3,2]\n",
    "sum=0\n",
    "ca=[]\n",
    "#ca=[0,5,8,9,10,16,19,21]\n",
    "for j in a:\n",
    "    ca.append(sum)\n",
    "    sum +=j\n",
    "ca.append(sum)\n",
    "\n",
    "print ca"
   ]
  },
  {
   "cell_type": "code",
   "execution_count": 21,
   "metadata": {},
   "outputs": [
    {
     "name": "stdout",
     "output_type": "stream",
     "text": [
      "[3, 6, 7, 2, 2, 7, 6, 3]\n"
     ]
    }
   ],
   "source": [
    "a=[3,6,7,2]\n",
    "\n",
    "#oa=[3,6,7,2,2,7,6,3]\n",
    "\n",
    "oa=a\n",
    "\n",
    "for i in range (len(a)-1,-1,-1):\n",
    "    \n",
    "    oa.append(a[i])\n",
    "\n",
    "print oa\n",
    "    "
   ]
  },
  {
   "cell_type": "code",
   "execution_count": 22,
   "metadata": {},
   "outputs": [
    {
     "name": "stdout",
     "output_type": "stream",
     "text": [
      "[3, 6, 7, 2, 2, 7, 6, 3]\n"
     ]
    }
   ],
   "source": [
    "#OR:\n",
    "\n",
    "a=[3,6,7,2]\n",
    "\n",
    "#oa=[3,6,7,2,2,7,6,3]\n",
    "\n",
    "oa=a\n",
    "\n",
    "for i in reversed(a):\n",
    "    oa.append(i)\n",
    "\n",
    "print oa"
   ]
  },
  {
   "cell_type": "code",
   "execution_count": 24,
   "metadata": {},
   "outputs": [
    {
     "name": "stdout",
     "output_type": "stream",
     "text": [
      "[3, 4, 6]\n"
     ]
    },
    {
     "data": {
      "text/plain": [
       "6"
      ]
     },
     "execution_count": 24,
     "metadata": {},
     "output_type": "execute_result"
    }
   ],
   "source": [
    "a=[3,4,6]\n",
    "print(a)\n",
    "a[-1]"
   ]
  },
  {
   "cell_type": "code",
   "execution_count": 25,
   "metadata": {},
   "outputs": [
    {
     "name": "stdout",
     "output_type": "stream",
     "text": [
      "[3, 4, 6]\n",
      "6\n",
      "4\n",
      "3\n"
     ]
    }
   ],
   "source": [
    "a=[3,4,6]\n",
    "print(a)\n",
    "\n",
    "for i in range(1,len(a)+1):\n",
    "    print(a[-i])\n",
    "    "
   ]
  },
  {
   "cell_type": "code",
   "execution_count": 27,
   "metadata": {},
   "outputs": [
    {
     "name": "stdout",
     "output_type": "stream",
     "text": [
      "[3, 4, 6]\n"
     ]
    },
    {
     "data": {
      "text/plain": [
       "[3, 4, 6, 6, 6, 6]"
      ]
     },
     "execution_count": 27,
     "metadata": {},
     "output_type": "execute_result"
    }
   ],
   "source": [
    "a=[3,4,6]\n",
    "oa=a;\n",
    "print(a)\n",
    "\n",
    "for i in range(1,len(a)+1):\n",
    "    oa.append(a[-i])\n",
    "oa"
   ]
  },
  {
   "cell_type": "code",
   "execution_count": 2,
   "metadata": {},
   "outputs": [
    {
     "name": "stdout",
     "output_type": "stream",
     "text": [
      "[3, 4, 6]\n"
     ]
    },
    {
     "data": {
      "text/plain": [
       "[3, 4, 6, 6, 4, 3]"
      ]
     },
     "execution_count": 2,
     "metadata": {},
     "output_type": "execute_result"
    }
   ],
   "source": [
    "a=[3,4,6]\n",
    "oa = list(a)\n",
    "print(a)\n",
    "\n",
    "for i in range(1,len(a)+1):\n",
    "    oa.append(a[-i])\n",
    "\n",
    "oa"
   ]
  },
  {
   "cell_type": "code",
   "execution_count": 4,
   "metadata": {},
   "outputs": [
    {
     "data": {
      "text/plain": [
       "[3, 4, 6, 6, 4, 3]"
      ]
     },
     "execution_count": 4,
     "metadata": {},
     "output_type": "execute_result"
    }
   ],
   "source": [
    "#or\n",
    "\n",
    "a+list(reversed(a))\n"
   ]
  },
  {
   "cell_type": "code",
   "execution_count": 5,
   "metadata": {},
   "outputs": [
    {
     "name": "stdout",
     "output_type": "stream",
     "text": [
      "Enter Price   12\n",
      "Enter Capital   32\n",
      "Number of Items\n",
      "2\n"
     ]
    }
   ],
   "source": [
    "P = raw_input('Enter Price   ')\n",
    "C = raw_input('Enter Capital   ')\n",
    "\n",
    "print 'Number of Items'\n",
    "\n",
    "print int(C)/int(P)\n"
   ]
  },
  {
   "cell_type": "code",
   "execution_count": 9,
   "metadata": {},
   "outputs": [
    {
     "name": "stdout",
     "output_type": "stream",
     "text": [
      "Enter Price       12\n",
      "Enter Capital   32\n",
      "Number of Items\n",
      "2.66666666667\n"
     ]
    }
   ],
   "source": [
    "P = raw_input('Enter Price       ')\n",
    "C = raw_input('Enter Capital   ')\n",
    "\n",
    "print 'Number of Items'\n",
    "\n",
    "print float(C)/int(P)"
   ]
  },
  {
   "cell_type": "code",
   "execution_count": 25,
   "metadata": {},
   "outputs": [
    {
     "name": "stdout",
     "output_type": "stream",
     "text": [
      "[True, True, False, False, True, True, False, True, False]\n",
      "[False, False, True, True, False, False, True, False, False]\n"
     ]
    }
   ],
   "source": [
    "a0= 0\n",
    "a= [2,6,3,1,4,8,3,5,5]\n",
    "inc=[]\n",
    "dec=[]\n",
    "\n",
    "prev = a0\n",
    "\n",
    "for i in a:\n",
    "    inc.append(i>prev)\n",
    "    dec.append(i<prev)\n",
    "    prev=i\n",
    "print(inc)\n",
    "print(dec)\n",
    "\n"
   ]
  },
  {
   "cell_type": "markdown",
   "metadata": {},
   "source": [
    "HW: generate a random walk in an array ; x(t)=x(t-1)+e(t)"
   ]
  },
  {
   "cell_type": "code",
   "execution_count": 1,
   "metadata": {},
   "outputs": [
    {
     "name": "stdout",
     "output_type": "stream",
     "text": [
      "[1, 2, 3, 4, 5, 6, 7, 8, 9, 10, 11, 12, 13, 14, 15, 16, 17, 18, 19, 20, 21, 22, 23, 24, 25, 26, 27, 28, 29, 30, 31, 32, 33, 34, 35, 36, 37, 38, 39, 40, 41, 42, 43, 44, 45, 46, 47, 48, 49, 50, 51, 52, 53, 54, 55, 56, 57, 58, 59, 60, 61, 62, 63, 64, 65, 66, 67, 68, 69, 70, 71, 72, 73, 74, 75, 76, 77, 78, 79, 80, 81, 82, 83, 84, 85, 86, 87, 88, 89, 90, 91, 92, 93, 94, 95, 96, 97, 98, 99, 100]\n",
      "[1, -1, 1, -1, 0, 1, 0, 0, 0, 1, -1, 0, 0, 0, 1, 0, -1, -1, 1, -1, -1, -1, 1, 1, -1, 0, -1, 0, -1, 1, -1, 0, -1, -1, 1, -1, -1, -1, -1, 1, 0, 0, 1, 0, 0, 0, -1, 0, -1, 1, -1, 0, -1, 0, -1, -1, 1, 0, -1, -1, 1, 1, -1, -1, -1, 1, -1, -1, 1, 0, 1, -1, 0, -1, 1, 0, -1, 0, -1, -1, 1, -1, 0, -1, 0, 1, -1, 0, 0, -1, 1, -1, 0, 1, 0, 1, 0, 1, 0, 1]\n",
      "-14\n"
     ]
    }
   ],
   "source": [
    "a=[1]\n",
    "\n",
    "walk=[]\n",
    "\n",
    "for i in a:\n",
    "    if i<100:\n",
    "        a.append (i+1)\n",
    "print (a)\n",
    "        \n",
    "import random\n",
    "\n",
    "from random import randint\n",
    "for j in a:\n",
    "    y=random.randint(-1,1)\n",
    "    walk.append(y)\n",
    "    \n",
    "print walk\n",
    "\n",
    "totalwalk=0\n",
    "\n",
    "for i in walk:\n",
    "    totalwalk=totalwalk + i\n",
    "    \n",
    "print (totalwalk)\n"
   ]
  },
  {
   "cell_type": "code",
   "execution_count": null,
   "metadata": {
    "collapsed": true
   },
   "outputs": [],
   "source": []
  }
 ],
 "metadata": {
  "anaconda-cloud": {},
  "kernelspec": {
   "display_name": "Python 3",
   "language": "python",
   "name": "python3"
  },
  "language_info": {
   "codemirror_mode": {
    "name": "ipython",
    "version": 3
   },
   "file_extension": ".py",
   "mimetype": "text/x-python",
   "name": "python",
   "nbconvert_exporter": "python",
   "pygments_lexer": "ipython3",
   "version": "3.6.2"
  }
 },
 "nbformat": 4,
 "nbformat_minor": 1
}
