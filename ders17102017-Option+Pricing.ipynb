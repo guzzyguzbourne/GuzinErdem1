{
 "cells": [
  {
   "cell_type": "code",
   "execution_count": null,
   "metadata": {
    "collapsed": true
   },
   "outputs": [],
   "source": [
    "#Option Pricing via Monte Carlo:"
   ]
  },
  {
   "cell_type": "code",
   "execution_count": 1,
   "metadata": {
    "scrolled": true
   },
   "outputs": [
    {
     "ename": "SyntaxError",
     "evalue": "invalid syntax (<ipython-input-1-d74dfbc1463d>, line 13)",
     "output_type": "error",
     "traceback": [
      "\u001b[1;36m  File \u001b[1;32m\"<ipython-input-1-d74dfbc1463d>\"\u001b[1;36m, line \u001b[1;32m13\u001b[0m\n\u001b[1;33m    return (ST=S0*np.exp((r-0.5*sigma**2)*T+sigma*WT*np.sqrt(T))\u001b[0m\n\u001b[1;37m              ^\u001b[0m\n\u001b[1;31mSyntaxError\u001b[0m\u001b[1;31m:\u001b[0m invalid syntax\n"
     ]
    }
   ],
   "source": [
    "import numpy as np\n",
    "\n",
    "r= 0.05\n",
    "S0=100\n",
    "K=110\n",
    "sigma=0.01\n",
    "T=1\n",
    "\n",
    "n=100000\n",
    "\n",
    "    WT=np.random.randn()*np.sqrt(T)\n",
    "\n",
    "def EuropeanCall(S0=100,K=120,sigma=0.05,T=1,r=0.05,n=100):\n",
    "\n",
    "    return (ST=S0*np.exp((r-0.5*sigma**2)*T+sigma*WT)"
   ]
  },
  {
   "cell_type": "code",
   "execution_count": null,
   "metadata": {
    "collapsed": true
   },
   "outputs": [],
   "source": [
    "#1.European Options:"
   ]
  },
  {
   "cell_type": "code",
   "execution_count": 10,
   "metadata": {},
   "outputs": [
    {
     "name": "stdout",
     "output_type": "stream",
     "text": [
      "call price=  0.0\n",
      "put price=  4.63504825177\n"
     ]
    }
   ],
   "source": [
    "import numpy as np\n",
    "r= 0.05\n",
    "S0=100\n",
    "K=110\n",
    "sigma=0.01\n",
    "T=1\n",
    "\n",
    "N=100000\n",
    "\n",
    "C=0\n",
    "P=0\n",
    "for i in range (N):\n",
    "    WT= np.random.randn()*np.sqrt(T)\n",
    "    ST= S0*np.exp((r-0.5*sigma**2)*T+sigma*WT)\n",
    "    C += max(0, ST-K)\n",
    "    P += max(0, K-ST)\n",
    "callprice=(C/N)*np.exp(-r*T)\n",
    "putprice=(P/N)*np.exp(-r*T)\n",
    "                 \n",
    "print(\"call price= \", callprice)\n",
    "print(\"put price= \", putprice)"
   ]
  },
  {
   "cell_type": "code",
   "execution_count": null,
   "metadata": {
    "collapsed": true
   },
   "outputs": [],
   "source": [
    "#2.Asian Options:"
   ]
  },
  {
   "cell_type": "code",
   "execution_count": 1,
   "metadata": {},
   "outputs": [
    {
     "name": "stdout",
     "output_type": "stream",
     "text": [
      "call price=  0.0\n",
      "put price=  6.91364454031\n"
     ]
    }
   ],
   "source": [
    "import numpy as np\n",
    "r= 0.05\n",
    "S0=100\n",
    "K=110\n",
    "sigma=0.01\n",
    "T=1\n",
    "\n",
    "EPOCH=100\n",
    "N=12\n",
    "\n",
    "call=0\n",
    "put=0\n",
    "for i in range (EPOCH):\n",
    "    ST =S0\n",
    "    Total=0   \n",
    "    for j in range (N):\n",
    "        WT= np.random.randn()*np.sqrt(T/N)\n",
    "        ST= ST*np.exp((r-0.5*sigma**2)*(T/N)+sigma*WT)\n",
    "        Total +=ST\n",
    "    Total /= N\n",
    "    call += max(0,Total-K)\n",
    "    put += max(0,K-Total)\n",
    "\n",
    "call_price=(call/EPOCH)*np.exp(-r*T)\n",
    "put_price=(put/EPOCH)*np.exp(-r*T)\n",
    "\n",
    "print(\"call price= \", call_price)\n",
    "print(\"put price= \", put_price)"
   ]
  },
  {
   "cell_type": "code",
   "execution_count": 3,
   "metadata": {},
   "outputs": [
    {
     "data": {
      "text/plain": [
       "[2, 0, 4]"
      ]
     },
     "execution_count": 3,
     "metadata": {},
     "output_type": "execute_result"
    }
   ],
   "source": [
    "L=[3,2,1,0,4,7,9]\n",
    "\n",
    "##Create a list with even numbers only:\n",
    "\n",
    "even = [i for i in L if i%2 ==0 ]\n",
    "even"
   ]
  },
  {
   "cell_type": "code",
   "execution_count": 4,
   "metadata": {},
   "outputs": [
    {
     "name": "stdout",
     "output_type": "stream",
     "text": [
      "[2, 0, 4]\n"
     ]
    }
   ],
   "source": [
    "#OR\n",
    "L2=list(filter(lambda x: x%2==0, L))\n",
    "print(L2)\n"
   ]
  },
  {
   "cell_type": "code",
   "execution_count": 5,
   "metadata": {},
   "outputs": [
    {
     "name": "stdout",
     "output_type": "stream",
     "text": [
      "[2, 0, 4]\n"
     ]
    }
   ],
   "source": [
    "#OR:\n",
    "\n",
    "L2 =[]\n",
    "for e in L:\n",
    "    if e%2==0:\n",
    "        L2.append(e)\n",
    "    else:\n",
    "        pass\n",
    "print(L2)"
   ]
  },
  {
   "cell_type": "code",
   "execution_count": 6,
   "metadata": {},
   "outputs": [
    {
     "name": "stdout",
     "output_type": "stream",
     "text": [
      "[2, 0, 4]\n"
     ]
    }
   ],
   "source": [
    "#OR\n",
    "def is_even(x):\n",
    "    return x%2==0\n",
    "L2=list(filter(is_even, L))\n",
    "print(L2)"
   ]
  },
  {
   "cell_type": "code",
   "execution_count": 7,
   "metadata": {},
   "outputs": [
    {
     "name": "stdout",
     "output_type": "stream",
     "text": [
      "2\n",
      "0\n",
      "4\n"
     ]
    }
   ],
   "source": [
    "#OR\n",
    "for x in filter(is_even, L):\n",
    "    print(x)"
   ]
  },
  {
   "cell_type": "code",
   "execution_count": 8,
   "metadata": {},
   "outputs": [
    {
     "name": "stdout",
     "output_type": "stream",
     "text": [
      "2 0 4 "
     ]
    }
   ],
   "source": [
    "#OR\n",
    "for x in filter(is_even, L):\n",
    "    print(x, end=' ')"
   ]
  },
  {
   "cell_type": "code",
   "execution_count": 11,
   "metadata": {},
   "outputs": [
    {
     "name": "stdout",
     "output_type": "stream",
     "text": [
      "[2, 0, 4, 3, 1, 7, 9]\n"
     ]
    }
   ],
   "source": [
    "def is_even(x):\n",
    "    return x%2==0\n",
    "L2=list(filter(is_even, L))\n",
    "\n",
    "def is_odd(y):\n",
    "    return y%2!=0\n",
    "L3=list(filter(is_odd, L))\n",
    "L4=L2+L3\n",
    "print(L4)\n"
   ]
  },
  {
   "cell_type": "code",
   "execution_count": 12,
   "metadata": {},
   "outputs": [
    {
     "data": {
      "text/plain": [
       "[4, 0, 2, 3, 1, 7, 9]"
      ]
     },
     "execution_count": 12,
     "metadata": {},
     "output_type": "execute_result"
    }
   ],
   "source": [
    "#OR\n",
    "L=[3,2,1,0,4,7,9]\n",
    "\n",
    "S=[]\n",
    "for x in L:\n",
    "    if x%2==0:\n",
    "        S.insert(0,x)\n",
    "    else:\n",
    "        S.append(x)\n",
    "S"
   ]
  },
  {
   "cell_type": "code",
   "execution_count": 13,
   "metadata": {},
   "outputs": [
    {
     "data": {
      "text/plain": [
       "[2, 0, 4, 3, 1, 7, 9]"
      ]
     },
     "execution_count": 13,
     "metadata": {},
     "output_type": "execute_result"
    }
   ],
   "source": [
    "#OR\n",
    "list(filter(is_even, L))+list(filter(lambda x: x%2==1, L))"
   ]
  },
  {
   "cell_type": "code",
   "execution_count": 15,
   "metadata": {},
   "outputs": [
    {
     "data": {
      "text/plain": [
       "array([2, 0, 4])"
      ]
     },
     "execution_count": 15,
     "metadata": {},
     "output_type": "execute_result"
    }
   ],
   "source": [
    "#OR\n",
    "import numpy as np\n",
    "U=np.array(L)\n",
    "U[U%2==0]"
   ]
  },
  {
   "cell_type": "code",
   "execution_count": 16,
   "metadata": {},
   "outputs": [
    {
     "data": {
      "text/plain": [
       "2.0"
      ]
     },
     "execution_count": 16,
     "metadata": {},
     "output_type": "execute_result"
    }
   ],
   "source": [
    "np.mean(list(filter(is_even, L)))"
   ]
  },
  {
   "cell_type": "code",
   "execution_count": 20,
   "metadata": {},
   "outputs": [
    {
     "name": "stdout",
     "output_type": "stream",
     "text": [
      "[4, 0, 2]\n",
      "2.0\n"
     ]
    }
   ],
   "source": [
    "S=[]\n",
    "for x in L:\n",
    "    if x%2==0:\n",
    "        S.insert(0,x)\n",
    "print(S)\n",
    "print(sum(S)/len(S))\n",
    "    \n",
    "\n"
   ]
  },
  {
   "cell_type": "code",
   "execution_count": 21,
   "metadata": {},
   "outputs": [
    {
     "data": {
      "text/plain": [
       "2.0"
      ]
     },
     "execution_count": 21,
     "metadata": {},
     "output_type": "execute_result"
    }
   ],
   "source": [
    "#OR\n",
    "#reduce function listedeki tüm elemanları tanımlanan işlemden geçirmeye yarar;\n",
    "\n",
    "from functools import reduce\n",
    "\n",
    "reduce(lambda x,y: x+y, filter(is_even, L))/len(list(filter(is_even, L)))"
   ]
  },
  {
   "cell_type": "code",
   "execution_count": 22,
   "metadata": {},
   "outputs": [
    {
     "data": {
      "text/plain": [
       "[10, 5, 2, 1, 17, 50, 82]"
      ]
     },
     "execution_count": 22,
     "metadata": {},
     "output_type": "execute_result"
    }
   ],
   "source": [
    "#OR\n",
    "#benzer şekilde;\n",
    "list(map(lambda x: x**2+1, L))\n"
   ]
  },
  {
   "cell_type": "code",
   "execution_count": null,
   "metadata": {
    "collapsed": true
   },
   "outputs": [],
   "source": []
  },
  {
   "cell_type": "code",
   "execution_count": null,
   "metadata": {
    "collapsed": true
   },
   "outputs": [],
   "source": []
  },
  {
   "cell_type": "code",
   "execution_count": null,
   "metadata": {
    "collapsed": true
   },
   "outputs": [],
   "source": []
  }
 ],
 "metadata": {
  "kernelspec": {
   "display_name": "Python 3",
   "language": "python",
   "name": "python3"
  },
  "language_info": {
   "codemirror_mode": {
    "name": "ipython",
    "version": 3
   },
   "file_extension": ".py",
   "mimetype": "text/x-python",
   "name": "python",
   "nbconvert_exporter": "python",
   "pygments_lexer": "ipython3",
   "version": "3.6.2"
  }
 },
 "nbformat": 4,
 "nbformat_minor": 2
}
