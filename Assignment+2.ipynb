{
 "cells": [
  {
   "cell_type": "code",
   "execution_count": 1,
   "metadata": {},
   "outputs": [
    {
     "name": "stdout",
     "output_type": "stream",
     "text": [
      "Floating Lookback Option:\n",
      "Call price =  0.0\n",
      "Put price =  6.84796443824\n"
     ]
    }
   ],
   "source": [
    "import numpy as np\n",
    "\n",
    "r=0.05\n",
    "S0=100\n",
    "K=110\n",
    "sigma=0.01\n",
    "T=1\n",
    "\n",
    "np.random.randn()\n",
    "\n",
    "EPOCH=10000\n",
    "N=10\n",
    "\n",
    "C=0\n",
    "P=0\n",
    "for i in range(EPOCH):\n",
    "    S_bar=0\n",
    "    S=S0\n",
    "    for j in range(N):\n",
    "        WT=np.random.randn()*np.sqrt(T/N)\n",
    "        S=S*np.exp((r-0.5*sigma**2)*(T/N) + sigma*WT)\n",
    "        S_bar += S\n",
    "    S_bar /= N    \n",
    "    C += max(0,S_bar-K)\n",
    "    P += max(0,K-S_bar)\n",
    "    \n",
    "call_price = (C/EPOCH)*np.exp(-r*T)\n",
    "put_price = (P/EPOCH)*np.exp(-r*T)\n",
    "\n",
    "print('Floating Lookback Option:')\n",
    "print('Call price = ', call_price)\n",
    "print('Put price = ', put_price)"
   ]
  }
 ],
 "metadata": {
  "kernelspec": {
   "display_name": "Python 3",
   "language": "python",
   "name": "python3"
  },
  "language_info": {
   "codemirror_mode": {
    "name": "ipython",
    "version": 3
   },
   "file_extension": ".py",
   "mimetype": "text/x-python",
   "name": "python",
   "nbconvert_exporter": "python",
   "pygments_lexer": "ipython3",
   "version": "3.6.2"
  }
 },
 "nbformat": 4,
 "nbformat_minor": 2
}
